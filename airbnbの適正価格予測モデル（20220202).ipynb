{
 "cells": [
  {
   "cell_type": "code",
   "execution_count": 68,
   "id": "09f491f6",
   "metadata": {},
   "outputs": [],
   "source": [
    "import pandas as pd\n",
    "import numpy as np\n",
    "import matplotlib.pyplot as plt\n",
    "import seaborn as sns"
   ]
  },
  {
   "cell_type": "code",
   "execution_count": 69,
   "id": "40298c03",
   "metadata": {},
   "outputs": [],
   "source": [
    "train=pd.read_csv('train (4).csv')\n",
    "test=pd.read_csv('test (5).csv')"
   ]
  },
  {
   "cell_type": "code",
   "execution_count": 72,
   "id": "892faf44",
   "metadata": {},
   "outputs": [
    {
     "data": {
      "text/html": [
       "<div>\n",
       "<style scoped>\n",
       "    .dataframe tbody tr th:only-of-type {\n",
       "        vertical-align: middle;\n",
       "    }\n",
       "\n",
       "    .dataframe tbody tr th {\n",
       "        vertical-align: top;\n",
       "    }\n",
       "\n",
       "    .dataframe thead th {\n",
       "        text-align: right;\n",
       "    }\n",
       "</style>\n",
       "<table border=\"1\" class=\"dataframe\">\n",
       "  <thead>\n",
       "    <tr style=\"text-align: right;\">\n",
       "      <th></th>\n",
       "      <th>id</th>\n",
       "      <th>accommodates</th>\n",
       "      <th>amenities</th>\n",
       "      <th>bathrooms</th>\n",
       "      <th>bed_type</th>\n",
       "      <th>bedrooms</th>\n",
       "      <th>beds</th>\n",
       "      <th>cancellation_policy</th>\n",
       "      <th>city</th>\n",
       "      <th>cleaning_fee</th>\n",
       "      <th>...</th>\n",
       "      <th>longitude</th>\n",
       "      <th>name</th>\n",
       "      <th>neighbourhood</th>\n",
       "      <th>number_of_reviews</th>\n",
       "      <th>property_type</th>\n",
       "      <th>review_scores_rating</th>\n",
       "      <th>room_type</th>\n",
       "      <th>thumbnail_url</th>\n",
       "      <th>zipcode</th>\n",
       "      <th>y</th>\n",
       "    </tr>\n",
       "  </thead>\n",
       "  <tbody>\n",
       "    <tr>\n",
       "      <th>0</th>\n",
       "      <td>0</td>\n",
       "      <td>6</td>\n",
       "      <td>{TV,\"Wireless Internet\",Kitchen,\"Free parking ...</td>\n",
       "      <td>2.0</td>\n",
       "      <td>Real Bed</td>\n",
       "      <td>1.0</td>\n",
       "      <td>4.0</td>\n",
       "      <td>flexible</td>\n",
       "      <td>LA</td>\n",
       "      <td>t</td>\n",
       "      <td>...</td>\n",
       "      <td>-118.154761</td>\n",
       "      <td>The Penthouse</td>\n",
       "      <td>NaN</td>\n",
       "      <td>1</td>\n",
       "      <td>Apartment</td>\n",
       "      <td>60.0</td>\n",
       "      <td>Private room</td>\n",
       "      <td>NaN</td>\n",
       "      <td>90804</td>\n",
       "      <td>138.0</td>\n",
       "    </tr>\n",
       "    <tr>\n",
       "      <th>1</th>\n",
       "      <td>1</td>\n",
       "      <td>2</td>\n",
       "      <td>{TV,\"Cable TV\",Internet,\"Wireless Internet\",\"A...</td>\n",
       "      <td>1.0</td>\n",
       "      <td>Real Bed</td>\n",
       "      <td>1.0</td>\n",
       "      <td>1.0</td>\n",
       "      <td>strict</td>\n",
       "      <td>DC</td>\n",
       "      <td>t</td>\n",
       "      <td>...</td>\n",
       "      <td>-76.978190</td>\n",
       "      <td>Guest Bedroom in Brookland</td>\n",
       "      <td>Brookland</td>\n",
       "      <td>9</td>\n",
       "      <td>House</td>\n",
       "      <td>100.0</td>\n",
       "      <td>Private room</td>\n",
       "      <td>https://a0.muscache.com/im/pictures/e4d8b51f-6...</td>\n",
       "      <td>20018</td>\n",
       "      <td>42.0</td>\n",
       "    </tr>\n",
       "    <tr>\n",
       "      <th>2</th>\n",
       "      <td>2</td>\n",
       "      <td>2</td>\n",
       "      <td>{TV,Internet,\"Wireless Internet\",Kitchen,\"Indo...</td>\n",
       "      <td>2.0</td>\n",
       "      <td>Real Bed</td>\n",
       "      <td>1.0</td>\n",
       "      <td>1.0</td>\n",
       "      <td>strict</td>\n",
       "      <td>NYC</td>\n",
       "      <td>t</td>\n",
       "      <td>...</td>\n",
       "      <td>-73.926240</td>\n",
       "      <td>Clean Modern Room in Lux Apt 1 Block From J Train</td>\n",
       "      <td>Bushwick</td>\n",
       "      <td>27</td>\n",
       "      <td>Apartment</td>\n",
       "      <td>83.0</td>\n",
       "      <td>Private room</td>\n",
       "      <td>https://a0.muscache.com/im/pictures/5ffecc9b-d...</td>\n",
       "      <td>NaN</td>\n",
       "      <td>65.0</td>\n",
       "    </tr>\n",
       "    <tr>\n",
       "      <th>3</th>\n",
       "      <td>3</td>\n",
       "      <td>2</td>\n",
       "      <td>{TV,\"Cable TV\",Internet,\"Wireless Internet\",\"A...</td>\n",
       "      <td>1.0</td>\n",
       "      <td>Real Bed</td>\n",
       "      <td>1.0</td>\n",
       "      <td>1.0</td>\n",
       "      <td>strict</td>\n",
       "      <td>SF</td>\n",
       "      <td>t</td>\n",
       "      <td>...</td>\n",
       "      <td>-122.411906</td>\n",
       "      <td>BEST views + reviews! 5/5 stars*****</td>\n",
       "      <td>Nob Hill</td>\n",
       "      <td>38</td>\n",
       "      <td>Apartment</td>\n",
       "      <td>95.0</td>\n",
       "      <td>Private room</td>\n",
       "      <td>NaN</td>\n",
       "      <td>94133</td>\n",
       "      <td>166.0</td>\n",
       "    </tr>\n",
       "    <tr>\n",
       "      <th>4</th>\n",
       "      <td>4</td>\n",
       "      <td>2</td>\n",
       "      <td>{TV,Internet,\"Wireless Internet\",\"Air conditio...</td>\n",
       "      <td>1.0</td>\n",
       "      <td>Real Bed</td>\n",
       "      <td>1.0</td>\n",
       "      <td>1.0</td>\n",
       "      <td>strict</td>\n",
       "      <td>NYC</td>\n",
       "      <td>t</td>\n",
       "      <td>...</td>\n",
       "      <td>-73.974691</td>\n",
       "      <td>Charming 1-bedroom - UWS Manhattan</td>\n",
       "      <td>Upper West Side</td>\n",
       "      <td>5</td>\n",
       "      <td>Apartment</td>\n",
       "      <td>100.0</td>\n",
       "      <td>Entire home/apt</td>\n",
       "      <td>https://a0.muscache.com/im/pictures/92879730/5...</td>\n",
       "      <td>10024</td>\n",
       "      <td>165.0</td>\n",
       "    </tr>\n",
       "  </tbody>\n",
       "</table>\n",
       "<p>5 rows × 29 columns</p>\n",
       "</div>"
      ],
      "text/plain": [
       "   id  accommodates                                          amenities  \\\n",
       "0   0             6  {TV,\"Wireless Internet\",Kitchen,\"Free parking ...   \n",
       "1   1             2  {TV,\"Cable TV\",Internet,\"Wireless Internet\",\"A...   \n",
       "2   2             2  {TV,Internet,\"Wireless Internet\",Kitchen,\"Indo...   \n",
       "3   3             2  {TV,\"Cable TV\",Internet,\"Wireless Internet\",\"A...   \n",
       "4   4             2  {TV,Internet,\"Wireless Internet\",\"Air conditio...   \n",
       "\n",
       "   bathrooms  bed_type  bedrooms  beds cancellation_policy city cleaning_fee  \\\n",
       "0        2.0  Real Bed       1.0   4.0            flexible   LA            t   \n",
       "1        1.0  Real Bed       1.0   1.0              strict   DC            t   \n",
       "2        2.0  Real Bed       1.0   1.0              strict  NYC            t   \n",
       "3        1.0  Real Bed       1.0   1.0              strict   SF            t   \n",
       "4        1.0  Real Bed       1.0   1.0              strict  NYC            t   \n",
       "\n",
       "   ...   longitude                                               name  \\\n",
       "0  ... -118.154761                                      The Penthouse   \n",
       "1  ...  -76.978190                         Guest Bedroom in Brookland   \n",
       "2  ...  -73.926240  Clean Modern Room in Lux Apt 1 Block From J Train   \n",
       "3  ... -122.411906               BEST views + reviews! 5/5 stars*****   \n",
       "4  ...  -73.974691                 Charming 1-bedroom - UWS Manhattan   \n",
       "\n",
       "     neighbourhood number_of_reviews property_type review_scores_rating  \\\n",
       "0              NaN                 1     Apartment                 60.0   \n",
       "1        Brookland                 9         House                100.0   \n",
       "2         Bushwick                27     Apartment                 83.0   \n",
       "3         Nob Hill                38     Apartment                 95.0   \n",
       "4  Upper West Side                 5     Apartment                100.0   \n",
       "\n",
       "         room_type                                      thumbnail_url  \\\n",
       "0     Private room                                                NaN   \n",
       "1     Private room  https://a0.muscache.com/im/pictures/e4d8b51f-6...   \n",
       "2     Private room  https://a0.muscache.com/im/pictures/5ffecc9b-d...   \n",
       "3     Private room                                                NaN   \n",
       "4  Entire home/apt  https://a0.muscache.com/im/pictures/92879730/5...   \n",
       "\n",
       "   zipcode      y  \n",
       "0    90804  138.0  \n",
       "1    20018   42.0  \n",
       "2      NaN   65.0  \n",
       "3    94133  166.0  \n",
       "4    10024  165.0  \n",
       "\n",
       "[5 rows x 29 columns]"
      ]
     },
     "execution_count": 72,
     "metadata": {},
     "output_type": "execute_result"
    }
   ],
   "source": [
    "train.head()"
   ]
  },
  {
   "cell_type": "code",
   "execution_count": 73,
   "id": "7f402cee",
   "metadata": {},
   "outputs": [
    {
     "data": {
      "text/plain": [
       "id                          int64\n",
       "accommodates                int64\n",
       "amenities                  object\n",
       "bathrooms                 float64\n",
       "bed_type                   object\n",
       "bedrooms                  float64\n",
       "beds                      float64\n",
       "cancellation_policy        object\n",
       "city                       object\n",
       "cleaning_fee               object\n",
       "description                object\n",
       "first_review               object\n",
       "host_has_profile_pic       object\n",
       "host_identity_verified     object\n",
       "host_response_rate         object\n",
       "host_since                 object\n",
       "instant_bookable           object\n",
       "last_review                object\n",
       "latitude                  float64\n",
       "longitude                 float64\n",
       "name                       object\n",
       "neighbourhood              object\n",
       "number_of_reviews           int64\n",
       "property_type              object\n",
       "review_scores_rating      float64\n",
       "room_type                  object\n",
       "thumbnail_url              object\n",
       "zipcode                    object\n",
       "y                         float64\n",
       "dtype: object"
      ]
     },
     "execution_count": 73,
     "metadata": {},
     "output_type": "execute_result"
    }
   ],
   "source": [
    "train.dtypes"
   ]
  },
  {
   "cell_type": "code",
   "execution_count": 74,
   "id": "30405216",
   "metadata": {},
   "outputs": [
    {
     "data": {
      "text/plain": [
       "(55583, 29)"
      ]
     },
     "execution_count": 74,
     "metadata": {},
     "output_type": "execute_result"
    }
   ],
   "source": [
    "train.shape"
   ]
  },
  {
   "cell_type": "code",
   "execution_count": 75,
   "id": "51f24120",
   "metadata": {},
   "outputs": [
    {
     "data": {
      "image/png": "[encoded data removed]",
      "text/plain": [
       "<Figure size 432x288 with 1 Axes>"
      ]
     },
     "metadata": {
      "needs_background": "light"
     },
     "output_type": "display_data"
    }
   ],
   "source": [
    "sns.boxplot(data=train,x='bathrooms',y='y')\n",
    "plt.show()"
   ]
  },
  {
   "cell_type": "code",
   "execution_count": 76,
   "id": "fbcd18c3",
   "metadata": {},
   "outputs": [
    {
     "data": {
      "image/png": "[encoded data removed]",
      "text/plain": [
       "<Figure size 432x288 with 1 Axes>"
      ]
     },
     "metadata": {
      "needs_background": "light"
     },
     "output_type": "display_data"
    }
   ],
   "source": [
    "sns.boxplot(data=train,x='beds',y='y')\n",
    "plt.show()"
   ]
  },
  {
   "cell_type": "code",
   "execution_count": 77,
   "id": "43363434",
   "metadata": {},
   "outputs": [
    {
     "data": {
      "image/png": "[encoded data removed]",
      "text/plain": [
       "<Figure size 432x288 with 1 Axes>"
      ]
     },
     "metadata": {
      "needs_background": "light"
     },
     "output_type": "display_data"
    }
   ],
   "source": [
    "sns.boxplot(data=train,x='accommodates',y='y')\n",
    "plt.show()"
   ]
  },
  {
   "cell_type": "code",
   "execution_count": 78,
   "id": "8221e1e1",
   "metadata": {},
   "outputs": [
    {
     "data": {
      "text/plain": [
       "id                            0\n",
       "accommodates                  0\n",
       "amenities                     0\n",
       "bathrooms                   147\n",
       "bed_type                      0\n",
       "bedrooms                     71\n",
       "beds                         96\n",
       "cancellation_policy           0\n",
       "city                          0\n",
       "cleaning_fee                  0\n",
       "description                   0\n",
       "first_review              11908\n",
       "host_has_profile_pic        148\n",
       "host_identity_verified      148\n",
       "host_response_rate        13704\n",
       "host_since                  148\n",
       "instant_bookable              0\n",
       "last_review               11880\n",
       "latitude                      0\n",
       "longitude                     0\n",
       "name                          0\n",
       "neighbourhood              5160\n",
       "number_of_reviews             0\n",
       "property_type                 0\n",
       "review_scores_rating      12556\n",
       "room_type                     0\n",
       "thumbnail_url              6145\n",
       "zipcode                     716\n",
       "y                             0\n",
       "dtype: int64"
      ]
     },
     "execution_count": 78,
     "metadata": {},
     "output_type": "execute_result"
    }
   ],
   "source": [
    "train.isnull().sum()"
   ]
  },
  {
   "cell_type": "code",
   "execution_count": 79,
   "id": "f97dba32",
   "metadata": {},
   "outputs": [],
   "source": [
    "train = train.drop(['id','first_review','host_response_rate','last_review','neighbourhood','thumbnail_url','zipcode'],axis=1)"
   ]
  },
  {
   "cell_type": "code",
   "execution_count": 80,
   "id": "898f8da4",
   "metadata": {},
   "outputs": [
    {
     "data": {
      "text/html": [
       "<div>\n",
       "<style scoped>\n",
       "    .dataframe tbody tr th:only-of-type {\n",
       "        vertical-align: middle;\n",
       "    }\n",
       "\n",
       "    .dataframe tbody tr th {\n",
       "        vertical-align: top;\n",
       "    }\n",
       "\n",
       "    .dataframe thead th {\n",
       "        text-align: right;\n",
       "    }\n",
       "</style>\n",
       "<table border=\"1\" class=\"dataframe\">\n",
       "  <thead>\n",
       "    <tr style=\"text-align: right;\">\n",
       "      <th></th>\n",
       "      <th>accommodates</th>\n",
       "      <th>amenities</th>\n",
       "      <th>bathrooms</th>\n",
       "      <th>bed_type</th>\n",
       "      <th>bedrooms</th>\n",
       "      <th>beds</th>\n",
       "      <th>cancellation_policy</th>\n",
       "      <th>city</th>\n",
       "      <th>cleaning_fee</th>\n",
       "      <th>description</th>\n",
       "      <th>...</th>\n",
       "      <th>host_since</th>\n",
       "      <th>instant_bookable</th>\n",
       "      <th>latitude</th>\n",
       "      <th>longitude</th>\n",
       "      <th>name</th>\n",
       "      <th>number_of_reviews</th>\n",
       "      <th>property_type</th>\n",
       "      <th>review_scores_rating</th>\n",
       "      <th>room_type</th>\n",
       "      <th>y</th>\n",
       "    </tr>\n",
       "  </thead>\n",
       "  <tbody>\n",
       "    <tr>\n",
       "      <th>0</th>\n",
       "      <td>6</td>\n",
       "      <td>{TV,\"Wireless Internet\",Kitchen,\"Free parking ...</td>\n",
       "      <td>2.0</td>\n",
       "      <td>Real Bed</td>\n",
       "      <td>1.0</td>\n",
       "      <td>4.0</td>\n",
       "      <td>flexible</td>\n",
       "      <td>LA</td>\n",
       "      <td>t</td>\n",
       "      <td>My place is meant for family and a few friends...</td>\n",
       "      <td>...</td>\n",
       "      <td>2016-07-13</td>\n",
       "      <td>f</td>\n",
       "      <td>33.788931</td>\n",
       "      <td>-118.154761</td>\n",
       "      <td>The Penthouse</td>\n",
       "      <td>1</td>\n",
       "      <td>Apartment</td>\n",
       "      <td>60.0</td>\n",
       "      <td>Private room</td>\n",
       "      <td>138.0</td>\n",
       "    </tr>\n",
       "    <tr>\n",
       "      <th>1</th>\n",
       "      <td>2</td>\n",
       "      <td>{TV,\"Cable TV\",Internet,\"Wireless Internet\",\"A...</td>\n",
       "      <td>1.0</td>\n",
       "      <td>Real Bed</td>\n",
       "      <td>1.0</td>\n",
       "      <td>1.0</td>\n",
       "      <td>strict</td>\n",
       "      <td>DC</td>\n",
       "      <td>t</td>\n",
       "      <td>This is a new listing for a lovely guest bedro...</td>\n",
       "      <td>...</td>\n",
       "      <td>2015-12-30</td>\n",
       "      <td>f</td>\n",
       "      <td>38.934810</td>\n",
       "      <td>-76.978190</td>\n",
       "      <td>Guest Bedroom in Brookland</td>\n",
       "      <td>9</td>\n",
       "      <td>House</td>\n",
       "      <td>100.0</td>\n",
       "      <td>Private room</td>\n",
       "      <td>42.0</td>\n",
       "    </tr>\n",
       "    <tr>\n",
       "      <th>2</th>\n",
       "      <td>2</td>\n",
       "      <td>{TV,Internet,\"Wireless Internet\",Kitchen,\"Indo...</td>\n",
       "      <td>2.0</td>\n",
       "      <td>Real Bed</td>\n",
       "      <td>1.0</td>\n",
       "      <td>1.0</td>\n",
       "      <td>strict</td>\n",
       "      <td>NYC</td>\n",
       "      <td>t</td>\n",
       "      <td>We're looking forward to your stay at our apt....</td>\n",
       "      <td>...</td>\n",
       "      <td>2016-05-21</td>\n",
       "      <td>t</td>\n",
       "      <td>40.695118</td>\n",
       "      <td>-73.926240</td>\n",
       "      <td>Clean Modern Room in Lux Apt 1 Block From J Train</td>\n",
       "      <td>27</td>\n",
       "      <td>Apartment</td>\n",
       "      <td>83.0</td>\n",
       "      <td>Private room</td>\n",
       "      <td>65.0</td>\n",
       "    </tr>\n",
       "    <tr>\n",
       "      <th>3</th>\n",
       "      <td>2</td>\n",
       "      <td>{TV,\"Cable TV\",Internet,\"Wireless Internet\",\"A...</td>\n",
       "      <td>1.0</td>\n",
       "      <td>Real Bed</td>\n",
       "      <td>1.0</td>\n",
       "      <td>1.0</td>\n",
       "      <td>strict</td>\n",
       "      <td>SF</td>\n",
       "      <td>t</td>\n",
       "      <td>BEST CITY VIEWS - - ROOF DECK W/ BBQ &amp; WiFi - ...</td>\n",
       "      <td>...</td>\n",
       "      <td>2012-06-19</td>\n",
       "      <td>t</td>\n",
       "      <td>37.796728</td>\n",
       "      <td>-122.411906</td>\n",
       "      <td>BEST views + reviews! 5/5 stars*****</td>\n",
       "      <td>38</td>\n",
       "      <td>Apartment</td>\n",
       "      <td>95.0</td>\n",
       "      <td>Private room</td>\n",
       "      <td>166.0</td>\n",
       "    </tr>\n",
       "    <tr>\n",
       "      <th>4</th>\n",
       "      <td>2</td>\n",
       "      <td>{TV,Internet,\"Wireless Internet\",\"Air conditio...</td>\n",
       "      <td>1.0</td>\n",
       "      <td>Real Bed</td>\n",
       "      <td>1.0</td>\n",
       "      <td>1.0</td>\n",
       "      <td>strict</td>\n",
       "      <td>NYC</td>\n",
       "      <td>t</td>\n",
       "      <td>Charming Apartment on the upper west side of M...</td>\n",
       "      <td>...</td>\n",
       "      <td>2015-03-25</td>\n",
       "      <td>f</td>\n",
       "      <td>40.785050</td>\n",
       "      <td>-73.974691</td>\n",
       "      <td>Charming 1-bedroom - UWS Manhattan</td>\n",
       "      <td>5</td>\n",
       "      <td>Apartment</td>\n",
       "      <td>100.0</td>\n",
       "      <td>Entire home/apt</td>\n",
       "      <td>165.0</td>\n",
       "    </tr>\n",
       "  </tbody>\n",
       "</table>\n",
       "<p>5 rows × 22 columns</p>\n",
       "</div>"
      ],
      "text/plain": [
       "   accommodates                                          amenities  bathrooms  \\\n",
       "0             6  {TV,\"Wireless Internet\",Kitchen,\"Free parking ...        2.0   \n",
       "1             2  {TV,\"Cable TV\",Internet,\"Wireless Internet\",\"A...        1.0   \n",
       "2             2  {TV,Internet,\"Wireless Internet\",Kitchen,\"Indo...        2.0   \n",
       "3             2  {TV,\"Cable TV\",Internet,\"Wireless Internet\",\"A...        1.0   \n",
       "4             2  {TV,Internet,\"Wireless Internet\",\"Air conditio...        1.0   \n",
       "\n",
       "   bed_type  bedrooms  beds cancellation_policy city cleaning_fee  \\\n",
       "0  Real Bed       1.0   4.0            flexible   LA            t   \n",
       "1  Real Bed       1.0   1.0              strict   DC            t   \n",
       "2  Real Bed       1.0   1.0              strict  NYC            t   \n",
       "3  Real Bed       1.0   1.0              strict   SF            t   \n",
       "4  Real Bed       1.0   1.0              strict  NYC            t   \n",
       "\n",
       "                                         description  ...  host_since  \\\n",
       "0  My place is meant for family and a few friends...  ...  2016-07-13   \n",
       "1  This is a new listing for a lovely guest bedro...  ...  2015-12-30   \n",
       "2  We're looking forward to your stay at our apt....  ...  2016-05-21   \n",
       "3  BEST CITY VIEWS - - ROOF DECK W/ BBQ & WiFi - ...  ...  2012-06-19   \n",
       "4  Charming Apartment on the upper west side of M...  ...  2015-03-25   \n",
       "\n",
       "  instant_bookable   latitude   longitude  \\\n",
       "0                f  33.788931 -118.154761   \n",
       "1                f  38.934810  -76.978190   \n",
       "2                t  40.695118  -73.926240   \n",
       "3                t  37.796728 -122.411906   \n",
       "4                f  40.785050  -73.974691   \n",
       "\n",
       "                                                name  number_of_reviews  \\\n",
       "0                                      The Penthouse                  1   \n",
       "1                         Guest Bedroom in Brookland                  9   \n",
       "2  Clean Modern Room in Lux Apt 1 Block From J Train                 27   \n",
       "3               BEST views + reviews! 5/5 stars*****                 38   \n",
       "4                 Charming 1-bedroom - UWS Manhattan                  5   \n",
       "\n",
       "  property_type  review_scores_rating        room_type      y  \n",
       "0     Apartment                  60.0     Private room  138.0  \n",
       "1         House                 100.0     Private room   42.0  \n",
       "2     Apartment                  83.0     Private room   65.0  \n",
       "3     Apartment                  95.0     Private room  166.0  \n",
       "4     Apartment                 100.0  Entire home/apt  165.0  \n",
       "\n",
       "[5 rows x 22 columns]"
      ]
     },
     "execution_count": 80,
     "metadata": {},
     "output_type": "execute_result"
    }
   ],
   "source": [
    "train.head()"
   ]
  },
  {
   "cell_type": "code",
   "execution_count": 81,
   "id": "94175257",
   "metadata": {},
   "outputs": [
    {
     "data": {
      "text/plain": [
       "accommodates                int64\n",
       "amenities                  object\n",
       "bathrooms                 float64\n",
       "bed_type                   object\n",
       "bedrooms                  float64\n",
       "beds                      float64\n",
       "cancellation_policy        object\n",
       "city                       object\n",
       "cleaning_fee               object\n",
       "description                object\n",
       "host_has_profile_pic       object\n",
       "host_identity_verified     object\n",
       "host_since                 object\n",
       "instant_bookable           object\n",
       "latitude                  float64\n",
       "longitude                 float64\n",
       "name                       object\n",
       "number_of_reviews           int64\n",
       "property_type              object\n",
       "review_scores_rating      float64\n",
       "room_type                  object\n",
       "y                         float64\n",
       "dtype: object"
      ]
     },
     "execution_count": 81,
     "metadata": {},
     "output_type": "execute_result"
    }
   ],
   "source": [
    "train.dtypes"
   ]
  },
  {
   "cell_type": "code",
   "execution_count": 82,
   "id": "42310b09",
   "metadata": {},
   "outputs": [],
   "source": [
    "train_object = train.select_dtypes(include=object)"
   ]
  },
  {
   "cell_type": "code",
   "execution_count": 83,
   "id": "2dbe2327",
   "metadata": {},
   "outputs": [
    {
     "data": {
      "text/plain": [
       "Index(['amenities', 'bed_type', 'cancellation_policy', 'city', 'cleaning_fee',\n",
       "       'description', 'host_has_profile_pic', 'host_identity_verified',\n",
       "       'host_since', 'instant_bookable', 'name', 'property_type', 'room_type'],\n",
       "      dtype='object')"
      ]
     },
     "execution_count": 83,
     "metadata": {},
     "output_type": "execute_result"
    }
   ],
   "source": [
    "train_object.columns"
   ]
  },
  {
   "cell_type": "code",
   "execution_count": 84,
   "id": "3d3c0050",
   "metadata": {},
   "outputs": [
    {
     "data": {
      "text/plain": [
       "0        {TV,\"Wireless Internet\",Kitchen,\"Free parking ...\n",
       "1        {TV,\"Cable TV\",Internet,\"Wireless Internet\",\"A...\n",
       "2        {TV,Internet,\"Wireless Internet\",Kitchen,\"Indo...\n",
       "3        {TV,\"Cable TV\",Internet,\"Wireless Internet\",\"A...\n",
       "4        {TV,Internet,\"Wireless Internet\",\"Air conditio...\n",
       "                               ...                        \n",
       "55578    {TV,\"Cable TV\",Internet,\"Wireless Internet\",\"A...\n",
       "55579    {TV,Internet,\"Wireless Internet\",\"Air conditio...\n",
       "55580    {TV,Internet,\"Wireless Internet\",Kitchen,Heati...\n",
       "55581    {TV,\"Wireless Internet\",\"Air conditioning\",Poo...\n",
       "55582    {TV,\"Cable TV\",Internet,\"Wireless Internet\",\"A...\n",
       "Name: amenities, Length: 55583, dtype: object"
      ]
     },
     "execution_count": 84,
     "metadata": {},
     "output_type": "execute_result"
    }
   ],
   "source": [
    "train['amenities']"
   ]
  },
  {
   "cell_type": "code",
   "execution_count": 85,
   "id": "c23cb60d",
   "metadata": {},
   "outputs": [],
   "source": [
    "def change(x):\n",
    "    return len(x.split(','))"
   ]
  },
  {
   "cell_type": "code",
   "execution_count": 86,
   "id": "f97b1047",
   "metadata": {},
   "outputs": [],
   "source": [
    "train['amenities'] = train['amenities'].apply(change)"
   ]
  },
  {
   "cell_type": "code",
   "execution_count": 87,
   "id": "e7de2f3a",
   "metadata": {},
   "outputs": [
    {
     "data": {
      "text/plain": [
       "0         7\n",
       "1        22\n",
       "2        29\n",
       "3        18\n",
       "4        18\n",
       "         ..\n",
       "55578    12\n",
       "55579    16\n",
       "55580    16\n",
       "55581    17\n",
       "55582    24\n",
       "Name: amenities, Length: 55583, dtype: int64"
      ]
     },
     "execution_count": 87,
     "metadata": {},
     "output_type": "execute_result"
    }
   ],
   "source": [
    "train['amenities']"
   ]
  },
  {
   "cell_type": "code",
   "execution_count": 88,
   "id": "9ee5edfb",
   "metadata": {},
   "outputs": [
    {
     "data": {
      "text/plain": [
       "Real Bed         53989\n",
       "Futon              569\n",
       "Pull-out Sofa      453\n",
       "Airbed             364\n",
       "Couch              208\n",
       "Name: bed_type, dtype: int64"
      ]
     },
     "execution_count": 88,
     "metadata": {},
     "output_type": "execute_result"
    }
   ],
   "source": [
    "train['bed_type'].value_counts()"
   ]
  },
  {
   "cell_type": "code",
   "execution_count": 89,
   "id": "175c967c",
   "metadata": {},
   "outputs": [],
   "source": [
    "bed_type_dummied= pd.get_dummies(train['bed_type'],drop_first=True)"
   ]
  },
  {
   "cell_type": "code",
   "execution_count": 90,
   "id": "816de9b4",
   "metadata": {},
   "outputs": [
    {
     "data": {
      "text/plain": [
       "0"
      ]
     },
     "execution_count": 90,
     "metadata": {},
     "output_type": "execute_result"
    }
   ],
   "source": [
    "train['bed_type'].isnull().sum()"
   ]
  },
  {
   "cell_type": "code",
   "execution_count": 91,
   "id": "4df31dcd",
   "metadata": {},
   "outputs": [
    {
     "data": {
      "text/plain": [
       "0        Real Bed\n",
       "1        Real Bed\n",
       "2        Real Bed\n",
       "3        Real Bed\n",
       "4        Real Bed\n",
       "           ...   \n",
       "55578    Real Bed\n",
       "55579    Real Bed\n",
       "55580    Real Bed\n",
       "55581    Real Bed\n",
       "55582    Real Bed\n",
       "Name: bed_type, Length: 55583, dtype: object"
      ]
     },
     "execution_count": 91,
     "metadata": {},
     "output_type": "execute_result"
    }
   ],
   "source": [
    "train['bed_type']"
   ]
  },
  {
   "cell_type": "code",
   "execution_count": 92,
   "id": "3fbb19fe",
   "metadata": {},
   "outputs": [
    {
     "data": {
      "text/plain": [
       "strict             24318\n",
       "flexible           16886\n",
       "moderate           14288\n",
       "super_strict_30       78\n",
       "super_strict_60       13\n",
       "Name: cancellation_policy, dtype: int64"
      ]
     },
     "execution_count": 92,
     "metadata": {},
     "output_type": "execute_result"
    }
   ],
   "source": [
    "train['cancellation_policy'].value_counts()"
   ]
  },
  {
   "cell_type": "code",
   "execution_count": 93,
   "id": "7edbb07f",
   "metadata": {},
   "outputs": [],
   "source": [
    "train = pd.concat([train,bed_type_dummied],axis=1)"
   ]
  },
  {
   "cell_type": "code",
   "execution_count": 94,
   "id": "e5d109f5",
   "metadata": {},
   "outputs": [],
   "source": [
    "train.drop(['bed_type'],axis=1,inplace=True)"
   ]
  },
  {
   "cell_type": "code",
   "execution_count": 95,
   "id": "a84f33f5",
   "metadata": {},
   "outputs": [
    {
     "data": {
      "text/plain": [
       "Index(['accommodates', 'amenities', 'bathrooms', 'bedrooms', 'beds',\n",
       "       'cancellation_policy', 'city', 'cleaning_fee', 'description',\n",
       "       'host_has_profile_pic', 'host_identity_verified', 'host_since',\n",
       "       'instant_bookable', 'latitude', 'longitude', 'name',\n",
       "       'number_of_reviews', 'property_type', 'review_scores_rating',\n",
       "       'room_type', 'y', 'Couch', 'Futon', 'Pull-out Sofa', 'Real Bed'],\n",
       "      dtype='object')"
      ]
     },
     "execution_count": 95,
     "metadata": {},
     "output_type": "execute_result"
    }
   ],
   "source": [
    "train.columns"
   ]
  },
  {
   "cell_type": "code",
   "execution_count": 96,
   "id": "7a53afa1",
   "metadata": {},
   "outputs": [],
   "source": [
    "train['cancellation_policy'].replace({'strict':2,'flexible':3,'moderate':3,'super_strict_30':1,'super_strict_60':0},inplace=True)"
   ]
  },
  {
   "cell_type": "code",
   "execution_count": 97,
   "id": "d37837a7",
   "metadata": {},
   "outputs": [
    {
     "data": {
      "text/plain": [
       "3    31174\n",
       "2    24318\n",
       "1       78\n",
       "0       13\n",
       "Name: cancellation_policy, dtype: int64"
      ]
     },
     "execution_count": 97,
     "metadata": {},
     "output_type": "execute_result"
    }
   ],
   "source": [
    "train['cancellation_policy'].value_counts()"
   ]
  },
  {
   "cell_type": "code",
   "execution_count": 98,
   "id": "e9cf6563",
   "metadata": {},
   "outputs": [
    {
     "data": {
      "text/plain": [
       "3    31174\n",
       "2    24318\n",
       "1       78\n",
       "0       13\n",
       "Name: cancellation_policy, dtype: int64"
      ]
     },
     "execution_count": 98,
     "metadata": {},
     "output_type": "execute_result"
    }
   ],
   "source": [
    "train['cancellation_policy'].value_counts()"
   ]
  },
  {
   "cell_type": "code",
   "execution_count": 99,
   "id": "6da2adde",
   "metadata": {},
   "outputs": [
    {
     "data": {
      "text/plain": [
       "Index(['amenities', 'bed_type', 'cancellation_policy', 'city', 'cleaning_fee',\n",
       "       'description', 'host_has_profile_pic', 'host_identity_verified',\n",
       "       'host_since', 'instant_bookable', 'name', 'property_type', 'room_type'],\n",
       "      dtype='object')"
      ]
     },
     "execution_count": 99,
     "metadata": {},
     "output_type": "execute_result"
    }
   ],
   "source": [
    "train_object.columns"
   ]
  },
  {
   "cell_type": "code",
   "execution_count": 100,
   "id": "a8c6f42b",
   "metadata": {},
   "outputs": [
    {
     "data": {
      "text/plain": [
       "NYC        24326\n",
       "LA         16828\n",
       "SF          4768\n",
       "DC          4259\n",
       "Chicago     2807\n",
       "Boston      2595\n",
       "Name: city, dtype: int64"
      ]
     },
     "execution_count": 100,
     "metadata": {},
     "output_type": "execute_result"
    }
   ],
   "source": [
    "train['city'].value_counts()"
   ]
  },
  {
   "cell_type": "code",
   "execution_count": 101,
   "id": "0155da74",
   "metadata": {},
   "outputs": [],
   "source": [
    "import seaborn as sns\n",
    "import matplotlib.pyplot as plt"
   ]
  },
  {
   "cell_type": "code",
   "execution_count": 102,
   "id": "bc075211",
   "metadata": {},
   "outputs": [
    {
     "data": {
      "image/png": "[encoded data removed]",
      "text/plain": [
       "<Figure size 432x288 with 1 Axes>"
      ]
     },
     "metadata": {
      "needs_background": "light"
     },
     "output_type": "display_data"
    }
   ],
   "source": [
    "plt.figure()\n",
    "sns.boxplot(x='city',y='y',data=train)\n",
    "plt.show()"
   ]
  },
  {
   "cell_type": "code",
   "execution_count": 103,
   "id": "e7fda00e",
   "metadata": {},
   "outputs": [],
   "source": [
    "city_dummied =pd.get_dummies(train['city'],drop_first=True)"
   ]
  },
  {
   "cell_type": "code",
   "execution_count": 104,
   "id": "bd48fb03",
   "metadata": {},
   "outputs": [],
   "source": [
    "train = pd.concat([train,city_dummied],axis=1)"
   ]
  },
  {
   "cell_type": "code",
   "execution_count": 105,
   "id": "ffd5f985",
   "metadata": {},
   "outputs": [],
   "source": [
    "train.drop('city',axis=1,inplace=True)"
   ]
  },
  {
   "cell_type": "code",
   "execution_count": 106,
   "id": "b0880869",
   "metadata": {},
   "outputs": [
    {
     "data": {
      "text/plain": [
       "t    40821\n",
       "f    14762\n",
       "Name: cleaning_fee, dtype: int64"
      ]
     },
     "execution_count": 106,
     "metadata": {},
     "output_type": "execute_result"
    }
   ],
   "source": [
    "train['cleaning_fee'].value_counts()"
   ]
  },
  {
   "cell_type": "code",
   "execution_count": 107,
   "id": "42175f38",
   "metadata": {},
   "outputs": [],
   "source": [
    "def chang(x):\n",
    "    if x == 't':\n",
    "        return 1\n",
    "    else:\n",
    "        return 0"
   ]
  },
  {
   "cell_type": "code",
   "execution_count": 108,
   "id": "433fffc6",
   "metadata": {},
   "outputs": [],
   "source": [
    "train['cleaning_fee'] = train['cleaning_fee'].apply(chang)"
   ]
  },
  {
   "cell_type": "code",
   "execution_count": 109,
   "id": "7cb3d177",
   "metadata": {},
   "outputs": [
    {
     "data": {
      "text/plain": [
       "1    40821\n",
       "0    14762\n",
       "Name: cleaning_fee, dtype: int64"
      ]
     },
     "execution_count": 109,
     "metadata": {},
     "output_type": "execute_result"
    }
   ],
   "source": [
    "train['cleaning_fee'].value_counts()"
   ]
  },
  {
   "cell_type": "code",
   "execution_count": 110,
   "id": "40ded1af",
   "metadata": {},
   "outputs": [
    {
     "data": {
      "text/plain": [
       "Hello, I've been running guest house for Koreans visiting U.S. for 3years, and recently decided to run this place for other travelers also. There are 10 room in the house. They are mostly dormitory rooms and couple of couple room and family room. This places are our women's dormitory in third floor. There are three rooms, but no doors. It is basically open space. There are 2 beds in two rooms and 4 in one room. I do not have closet in this room but there are hangers and mini shelves. My travelers usually put their baggage on the floor. There is one full bathroom only for women in 2nd floor, which you will be sharing with other women guests. Right next that bathroom, there is unisex half bathroom. All bathrooms have hair dryers. You cannot use kitchen, but you can use refrigerator.  I offer breakfast every morning from 7-10 am. Bread, cereal, fruits, coffee, milk and juice will be served. You can eat take-out food in the kitchen, but please wash dishes that you used and put trash in the    8\n",
       "Private room in the heart of Little Italy with FREE PARKING :) You will have your own personal door code and may arrive at ANY time you would like and as late as you wish. You can store your luggage in the closet before check-in and after check-out times :) Price adapts to demand, my rates change constantly - every night is different! Put your dates in the calendar, with the number of guests, and what you see is what you'll pay :) The neighborhood is extremely safe even at night :) Restaurants and bars are right round the corner, both upscale and casual. This room is 6 minutes away by car or uber to Chicago's famous Willis (Sears) tower. Uber costs about $7. If you are arriving by car, I am providing free resident parking passes for anywhere in the area. (Yes, that means you can drive a few blocks and still park anywhere you want!) The room will be solely yours for the time you'll stay in the Windy City. Shall you have any concerns or need any tips from the local, I'll always be happy     6\n",
       "Welcome to RMH, a co-ed hostel vibe home for exploring travelers or working individuals needing temporary housing. (Guests access is from 3pm to 11am daily). NON-SMOKERS ONLY! Host & small dog live on property. NOTE: Guests' bedroom is dog free. GUARANTEED In Our Home: *You receive a clean home in a safe neighborhood, clean sheets, pillow, towel and covers. **You MUST Read House Rules BEFORE Booking :) ***IMPORTANT ***SMOKERS who book: reservation cancelled upon arrival + NO Refund. The bedroom is very large with enough space for everyone (6 guests) to have peace and quiet. The kitchen and bath are very spacious. Guests will have their own keys and have access to the bedroom in which they stay, kitchen, bathroom, living room and deck. OPTIONAL: (Normal Check IN is 3pm, Check OUT is 10am) If you would like an EARLY CHECK IN before 3pm ($25 fee) Guests trying to check in after 10pm will need to get pre-approval from host and pay the late check in fee of $25. There is no key box and no gu    5\n",
       "OutpostClub is a network of Coliving locations throughout NewYork. We built it to make it super easy to move to NewYork, and to provide cool convenient places for cheap. Coliving - is a shared housing model - where you share kitchen, living rooms, common spaces with others, having private or shared bedrooms of your choice. Everything is included in the flat fee - utilities, furniture, supplies, events. Book Now, grab your suitcase and move into the House, meet people who will become your friends Coliving Club is a beautifully curated living space in New York with a wide range of amenities such as free workspace with printer and scanner, hi-speed Wi-Fi, fully equipped kitchen, dinner and living space, private backyard, individual safe, coffee, tea, soda, shampoo, shower gel, hand soap, towels and much more! Everything is included in our flat fee. Here we thoroughly picked every detail so that you feel cozy. Expect a great night's sleep with our made in USA memory foam mattresses by Broo    5\n",
       "Come stay in my converted townhome in the heart of Bedford-Stuyvesant. Close to great restaurants, coffeeshops and juice bars, a great place to lay your head after a day or night out on the town. You will have a private room on the middle floor with a full sized bed and clean sheets and towels. There are 4 bathrooms, one on each floor, a living room and a fully equipped kitchen to use. I live on site and will be available to help with anything that you may need or neighborhood suggestions. A great mix of the hip and gentrified new Brooklyn, and the old 'real' Brooklyn. Im just a stones throw form great Jamaican food, cold brew coffee and juice shops. Just a 7 min walk to the G or AC trains and just 30 minutes into downtown manhattan.                                                                                                                                                                                                                                                                     4\n",
       "                                                                                                                                                                                                                                                                                                                                                                                                                                                                                                                                                                                                                                                                                                                                                                                                                                                                                                                                                                                                                                           ..\n",
       "Private room in 4 bedroom apartment & 2 full bathrooms. Great sunny room with two huge windows. Medium Size room with two large sunny windows, great sunlight along with window A/C, restroom right attached next to room door, huge living room with Projector screen and cosy environment. Spacious kitchen with modern table, little patio at apartment main door great for smoking and chilling.   Roomate's are chill and hardly home, queer & 420 friendly apartment. Roof, kitchen, living room 24/7 Convenience to everything  Laundromat, deli stores, supermarket, coffee shops, bars, restaurants, park, wine and liquor stores, hair saloon, nail shop, to-go food places, 15 min walking distance to Subways A, C & G, bus B43 and B52 right at door step. Suggestions Cafes.  Bed-stuy provisions, Sincerely Tommy's, Crocus, Little Roy, Civil Service Cafe, Anchor Coffee, Nagle's bagels, Salt butter & many more.  Bars & Restaurants. Lovers Rock, Peaches Hot House, Eugine & Co, Brew, Tree house, Caption Dan's go    1\n",
       "Recently renovated studio loft in the historic core of DTLA. Magnificent views, modern design, a coveted downtown location ideal for entertaining and exploring \"the next great city\". Stay in the heart of the city in an recently renovated building with all the comforts of home. We keep our place clean, organized, and minimalistic, so you'll enjoy the time you spend in the loft. We will provide you with clean linens and towels for your stay. It really is our oasis amidst the hustle and bustle of downtown. Pictures give you the feel of the space. We love it and know you will too! This will be your home while you visit. We will not be around. We are looking for you to have everything you would enjoy from a nice hotel, but with more character and adventure behind it. Complete access to building amenities including; rooftop pool, gym, jacuzzi, gym, sauna, and underground parking spot with remote access. We will leave with you everything you need including key to the loft, parking pass, garag    1\n",
       "Thanks for checking out my apartment and your home away from home, can't wait to host you. Recently renovated one bedroom complete with queen size bed, an eat in kitchen and an oversized living room with two sleeping sofas. Steps to the Boston University Medical Campus (BUMC) and some the hippest restaurant around, like Toro. The bedroom has a queen size bed and lots of natural light. The living room has a large TV complete with cable and not one, but 2 pull out couches. Our full service kitchen includes double wall ovens and dishwasher. If you're a big cook (like me) you'll find everything you'll need to cook a home cooked meal. If we forgot something in the kitchen please do not hesitate to ask. Coffee and tea is provided for your enjoyment. Guests enter the building through a common foyer. The apartment is on the first floor; minimal stairs to get to the apartment. You'll be renting a private apartment, not a shared space. If our paths cross, great. Otherwise, you will be able to le    1\n",
       "Locals have tried naming this neighborhood but most accurately I am between Noe Valley, Bernal Heights and the Mission.  You will be convenient to buses and the J-Church Street Car, BART and highways 80 and 101 as well as the 280 freeway.  There are many  well-renowned as well as popular restaurants and bars nearby. As well as Mitchell's ice cream and various bakeries! I love hosting! Welcome! Best for couple or single. I have hosted adults with children, but that gets a tad cramped. Pillow-top queen mattress with high thread count cotton sheets as well as a variety of pillow types.  I'm happy to share what I know (and love!) about San Francisco, and happy to give total privacy too. While AirBnB lists me in Bernal Heights, it is more accurate to say that I am in between Noe Valley, Bernal Heights and the Mission. BART: Less than a 10 minute walk MUNI: J Church Street Car Line two long blocks away MUNI Bus Lines 14, 24, 36 and 49 between two and four blocks away. Very easy off of 80/101    1\n",
       "I love the view, the tranquility when I sit on the terrace overlooking Beverly Hills, and all the great amenities and conveniences.                                                                                                                                                                                                                                                                                                                                                                                                                                                                                                                                                                                                                                                                                                                                                                                                                                                                                                         1\n",
       "Name: description, Length: 55221, dtype: int64"
      ]
     },
     "execution_count": 110,
     "metadata": {},
     "output_type": "execute_result"
    }
   ],
   "source": [
    "train['description'].value_counts()"
   ]
  },
  {
   "cell_type": "code",
   "execution_count": 111,
   "id": "3aec39fe",
   "metadata": {},
   "outputs": [],
   "source": [
    "train.drop('description',axis=1,inplace=True)"
   ]
  },
  {
   "cell_type": "code",
   "execution_count": 112,
   "id": "b096ed89",
   "metadata": {},
   "outputs": [
    {
     "data": {
      "text/plain": [
       "t    55265\n",
       "f      170\n",
       "Name: host_has_profile_pic, dtype: int64"
      ]
     },
     "execution_count": 112,
     "metadata": {},
     "output_type": "execute_result"
    }
   ],
   "source": [
    "train['host_has_profile_pic'].value_counts()"
   ]
  },
  {
   "cell_type": "code",
   "execution_count": 113,
   "id": "24798e57",
   "metadata": {},
   "outputs": [],
   "source": [
    "train['host_has_profile_pic'] = train['host_has_profile_pic'].apply(chang)"
   ]
  },
  {
   "cell_type": "code",
   "execution_count": 114,
   "id": "95e61c6a",
   "metadata": {},
   "outputs": [
    {
     "data": {
      "text/plain": [
       "1    55265\n",
       "0      318\n",
       "Name: host_has_profile_pic, dtype: int64"
      ]
     },
     "execution_count": 114,
     "metadata": {},
     "output_type": "execute_result"
    }
   ],
   "source": [
    "train['host_has_profile_pic'].value_counts()"
   ]
  },
  {
   "cell_type": "code",
   "execution_count": 115,
   "id": "dc4627e5",
   "metadata": {},
   "outputs": [
    {
     "data": {
      "text/plain": [
       "t    37264\n",
       "f    18171\n",
       "Name: host_identity_verified, dtype: int64"
      ]
     },
     "execution_count": 115,
     "metadata": {},
     "output_type": "execute_result"
    }
   ],
   "source": [
    "train['host_identity_verified'].value_counts()"
   ]
  },
  {
   "cell_type": "code",
   "execution_count": 116,
   "id": "3d7172dc",
   "metadata": {},
   "outputs": [],
   "source": [
    "train['host_identity_verified'] = train['host_identity_verified'].apply(chang)"
   ]
  },
  {
   "cell_type": "code",
   "execution_count": 117,
   "id": "3c726bff",
   "metadata": {},
   "outputs": [
    {
     "data": {
      "text/plain": [
       "0        2016-07-13\n",
       "1        2015-12-30\n",
       "2        2016-05-21\n",
       "3        2012-06-19\n",
       "4        2015-03-25\n",
       "            ...    \n",
       "55578    2013-01-08\n",
       "55579    2015-01-29\n",
       "55580    2016-02-16\n",
       "55581    2016-04-06\n",
       "55582    2016-03-10\n",
       "Name: host_since, Length: 55583, dtype: object"
      ]
     },
     "execution_count": 117,
     "metadata": {},
     "output_type": "execute_result"
    }
   ],
   "source": [
    "train['host_since']"
   ]
  },
  {
   "cell_type": "code",
   "execution_count": 118,
   "id": "618eaf9e",
   "metadata": {},
   "outputs": [],
   "source": [
    "train['host_since'] = pd.to_datetime(train['host_since'])"
   ]
  },
  {
   "cell_type": "code",
   "execution_count": 119,
   "id": "39f1b652",
   "metadata": {},
   "outputs": [
    {
     "data": {
      "text/plain": [
       "0       2016-07-13\n",
       "1       2015-12-30\n",
       "2       2016-05-21\n",
       "3       2012-06-19\n",
       "4       2015-03-25\n",
       "           ...    \n",
       "55578   2013-01-08\n",
       "55579   2015-01-29\n",
       "55580   2016-02-16\n",
       "55581   2016-04-06\n",
       "55582   2016-03-10\n",
       "Name: host_since, Length: 55583, dtype: datetime64[ns]"
      ]
     },
     "execution_count": 119,
     "metadata": {},
     "output_type": "execute_result"
    }
   ],
   "source": [
    "train['host_since']"
   ]
  },
  {
   "cell_type": "code",
   "execution_count": 120,
   "id": "f9197736",
   "metadata": {},
   "outputs": [],
   "source": [
    "train['host_since']= train['host_since'].dt.year"
   ]
  },
  {
   "cell_type": "code",
   "execution_count": 121,
   "id": "6b47b264",
   "metadata": {},
   "outputs": [
    {
     "data": {
      "text/plain": [
       "148"
      ]
     },
     "execution_count": 121,
     "metadata": {},
     "output_type": "execute_result"
    }
   ],
   "source": [
    "train['host_since'].isnull().sum()"
   ]
  },
  {
   "cell_type": "code",
   "execution_count": 122,
   "id": "d2290cc8",
   "metadata": {},
   "outputs": [],
   "source": [
    "train['host_since'].fillna(train['host_since'].mode()[0],inplace=True)"
   ]
  },
  {
   "cell_type": "code",
   "execution_count": 123,
   "id": "6d6535c6",
   "metadata": {},
   "outputs": [
    {
     "data": {
      "text/plain": [
       "0"
      ]
     },
     "execution_count": 123,
     "metadata": {},
     "output_type": "execute_result"
    }
   ],
   "source": [
    "train['host_since'].isnull().sum()"
   ]
  },
  {
   "cell_type": "code",
   "execution_count": 124,
   "id": "a6e462d4",
   "metadata": {},
   "outputs": [],
   "source": [
    "train['host_since'] = train['host_since'].astype(int)"
   ]
  },
  {
   "cell_type": "code",
   "execution_count": 125,
   "id": "679b7777",
   "metadata": {},
   "outputs": [
    {
     "data": {
      "text/plain": [
       "dtype('int32')"
      ]
     },
     "execution_count": 125,
     "metadata": {},
     "output_type": "execute_result"
    }
   ],
   "source": [
    "train['host_since'].dtypes"
   ]
  },
  {
   "cell_type": "code",
   "execution_count": 126,
   "id": "ababf724",
   "metadata": {},
   "outputs": [
    {
     "data": {
      "text/plain": [
       "2015    11917\n",
       "2014    10231\n",
       "2016     9883\n",
       "2013     8073\n",
       "2012     6174\n",
       "2011     3700\n",
       "2017     3692\n",
       "2010     1325\n",
       "2009      521\n",
       "2008       67\n",
       "Name: host_since, dtype: int64"
      ]
     },
     "execution_count": 126,
     "metadata": {},
     "output_type": "execute_result"
    }
   ],
   "source": [
    "train['host_since'].value_counts()"
   ]
  },
  {
   "cell_type": "code",
   "execution_count": 127,
   "id": "5b8f0b3a",
   "metadata": {},
   "outputs": [
    {
     "data": {
      "text/plain": [
       "f    41034\n",
       "t    14549\n",
       "Name: instant_bookable, dtype: int64"
      ]
     },
     "execution_count": 127,
     "metadata": {},
     "output_type": "execute_result"
    }
   ],
   "source": [
    "train['instant_bookable'].value_counts()"
   ]
  },
  {
   "cell_type": "code",
   "execution_count": 128,
   "id": "e6cf0ebd",
   "metadata": {},
   "outputs": [],
   "source": [
    "train['instant_bookable'] = train['instant_bookable'].apply(chang)"
   ]
  },
  {
   "cell_type": "code",
   "execution_count": 129,
   "id": "cfd197c8",
   "metadata": {},
   "outputs": [
    {
     "data": {
      "text/plain": [
       "0    41034\n",
       "1    14549\n",
       "Name: instant_bookable, dtype: int64"
      ]
     },
     "execution_count": 129,
     "metadata": {},
     "output_type": "execute_result"
    }
   ],
   "source": [
    "train['instant_bookable'].value_counts()"
   ]
  },
  {
   "cell_type": "code",
   "execution_count": 130,
   "id": "0f0ded22",
   "metadata": {},
   "outputs": [
    {
     "data": {
      "text/plain": [
       "Your home away from home                             6\n",
       "East Village Studio                                  6\n",
       "Charming East Village Apartment                      5\n",
       "Studio in the heart of Manhattan                     4\n",
       "Location, Location, Location                         4\n",
       "                                                    ..\n",
       "Private charming room for gate away.                 1\n",
       "Downtown Los Angeles Studio Loft                     1\n",
       "Welcome! 1BDR Next To BUMC W. Room 2 Spread Out      1\n",
       "Large room with private full bath. Welcome to SF!    1\n",
       "My Place ....                                        1\n",
       "Name: name, Length: 55152, dtype: int64"
      ]
     },
     "execution_count": 130,
     "metadata": {},
     "output_type": "execute_result"
    }
   ],
   "source": [
    "train['name'].value_counts()"
   ]
  },
  {
   "cell_type": "code",
   "execution_count": 131,
   "id": "458e3cda",
   "metadata": {},
   "outputs": [],
   "source": [
    "def length(x):\n",
    "    return len(x.split(' '))"
   ]
  },
  {
   "cell_type": "code",
   "execution_count": 132,
   "id": "07e0b831",
   "metadata": {},
   "outputs": [],
   "source": [
    "train['name'] = train['name'].apply(length)"
   ]
  },
  {
   "cell_type": "code",
   "execution_count": 133,
   "id": "6200c76d",
   "metadata": {},
   "outputs": [
    {
     "data": {
      "text/plain": [
       "5     12170\n",
       "6     11909\n",
       "7      8555\n",
       "4      7313\n",
       "8      5605\n",
       "3      3837\n",
       "9      2849\n",
       "2      1483\n",
       "10     1037\n",
       "1       438\n",
       "11      283\n",
       "12       77\n",
       "13       19\n",
       "14        3\n",
       "17        1\n",
       "31        1\n",
       "22        1\n",
       "15        1\n",
       "29        1\n",
       "Name: name, dtype: int64"
      ]
     },
     "execution_count": 133,
     "metadata": {},
     "output_type": "execute_result"
    }
   ],
   "source": [
    "train['name'].value_counts()"
   ]
  },
  {
   "cell_type": "code",
   "execution_count": 134,
   "id": "56077634",
   "metadata": {},
   "outputs": [
    {
     "data": {
      "image/png": "[encoded data removed]",
      "text/plain": [
       "<Figure size 432x288 with 1 Axes>"
      ]
     },
     "metadata": {
      "needs_background": "light"
     },
     "output_type": "display_data"
    }
   ],
   "source": [
    "sns.boxplot(x='name',y='y',data=train)\n",
    "plt.show()"
   ]
  },
  {
   "cell_type": "code",
   "execution_count": 135,
   "id": "428fc21a",
   "metadata": {},
   "outputs": [],
   "source": [
    "train.drop('name',axis=1,inplace=True)"
   ]
  },
  {
   "cell_type": "code",
   "execution_count": 136,
   "id": "bf33e4bc",
   "metadata": {},
   "outputs": [
    {
     "data": {
      "text/plain": [
       "Apartment             36826\n",
       "House                 12326\n",
       "Condominium            1983\n",
       "Townhouse              1249\n",
       "Loft                    914\n",
       "Other                   448\n",
       "Guesthouse              392\n",
       "Bed & Breakfast         349\n",
       "Bungalow                281\n",
       "Villa                   131\n",
       "Dorm                    112\n",
       "Guest suite              96\n",
       "Camper/RV                71\n",
       "In-law                   60\n",
       "Timeshare                55\n",
       "Boat                     53\n",
       "Hostel                   51\n",
       "Boutique hotel           50\n",
       "Cabin                    47\n",
       "Serviced apartment       16\n",
       "Tent                     14\n",
       "Vacation home            11\n",
       "Castle                    9\n",
       "Yurt                      8\n",
       "Hut                       7\n",
       "Treehouse                 7\n",
       "Chalet                    4\n",
       "Earth House               4\n",
       "Tipi                      3\n",
       "Train                     2\n",
       "Cave                      1\n",
       "Island                    1\n",
       "Parking Space             1\n",
       "Casa particular           1\n",
       "Name: property_type, dtype: int64"
      ]
     },
     "execution_count": 136,
     "metadata": {},
     "output_type": "execute_result"
    }
   ],
   "source": [
    "train['property_type'].value_counts()"
   ]
  },
  {
   "cell_type": "code",
   "execution_count": 137,
   "id": "3d6a5b96",
   "metadata": {},
   "outputs": [
    {
     "data": {
      "image/png": "[encoded data removed]",
      "text/plain": [
       "<Figure size 1440x1440 with 1 Axes>"
      ]
     },
     "metadata": {
      "needs_background": "light"
     },
     "output_type": "display_data"
    }
   ],
   "source": [
    "fig = plt.figure(figsize=(20,20))\n",
    "plt.xticks(rotation=90)\n",
    "sns.boxplot(x='property_type',y='y',data=train)\n",
    "\n",
    "plt.show()"
   ]
  },
  {
   "cell_type": "code",
   "execution_count": 138,
   "id": "70fd1ecf",
   "metadata": {},
   "outputs": [],
   "source": [
    "property_dummied = pd.get_dummies(train['property_type'],drop_first=True)"
   ]
  },
  {
   "cell_type": "code",
   "execution_count": 139,
   "id": "49ae6487",
   "metadata": {},
   "outputs": [],
   "source": [
    "train = pd.concat([train,property_dummied],axis=1)"
   ]
  },
  {
   "cell_type": "code",
   "execution_count": 140,
   "id": "a8a3ec22",
   "metadata": {},
   "outputs": [],
   "source": [
    "train.drop('property_type',axis=1,inplace=True)"
   ]
  },
  {
   "cell_type": "code",
   "execution_count": 141,
   "id": "584ec811",
   "metadata": {},
   "outputs": [
    {
     "data": {
      "text/plain": [
       "Entire home/apt    30939\n",
       "Private room       23023\n",
       "Shared room         1621\n",
       "Name: room_type, dtype: int64"
      ]
     },
     "execution_count": 141,
     "metadata": {},
     "output_type": "execute_result"
    }
   ],
   "source": [
    "train['room_type'].value_counts()"
   ]
  },
  {
   "cell_type": "code",
   "execution_count": 142,
   "id": "3c04856d",
   "metadata": {},
   "outputs": [
    {
     "data": {
      "image/png": "[encoded data removed]",
      "text/plain": [
       "<Figure size 432x288 with 1 Axes>"
      ]
     },
     "metadata": {
      "needs_background": "light"
     },
     "output_type": "display_data"
    }
   ],
   "source": [
    "fig = plt.figure()\n",
    "sns.boxplot(x='room_type',y='y',data=train)\n",
    "plt.show()"
   ]
  },
  {
   "cell_type": "code",
   "execution_count": 143,
   "id": "992dd328",
   "metadata": {},
   "outputs": [],
   "source": [
    "room_type_dummied = pd.get_dummies(train['room_type'],drop_first=True)"
   ]
  },
  {
   "cell_type": "code",
   "execution_count": 144,
   "id": "6ce3486b",
   "metadata": {},
   "outputs": [],
   "source": [
    "train = pd.concat([train,room_type_dummied],axis=1)"
   ]
  },
  {
   "cell_type": "code",
   "execution_count": 145,
   "id": "42fd4c4f",
   "metadata": {},
   "outputs": [],
   "source": [
    "train.drop('room_type',axis=1,inplace=True)"
   ]
  },
  {
   "cell_type": "code",
   "execution_count": 146,
   "id": "bc6ea23e",
   "metadata": {},
   "outputs": [
    {
     "data": {
      "text/plain": [
       "accommodates                int64\n",
       "amenities                   int64\n",
       "bathrooms                 float64\n",
       "bedrooms                  float64\n",
       "beds                      float64\n",
       "cancellation_policy         int64\n",
       "cleaning_fee                int64\n",
       "host_has_profile_pic        int64\n",
       "host_identity_verified      int64\n",
       "host_since                  int32\n",
       "instant_bookable            int64\n",
       "latitude                  float64\n",
       "longitude                 float64\n",
       "number_of_reviews           int64\n",
       "review_scores_rating      float64\n",
       "y                         float64\n",
       "Couch                       uint8\n",
       "Futon                       uint8\n",
       "Pull-out Sofa               uint8\n",
       "Real Bed                    uint8\n",
       "Chicago                     uint8\n",
       "DC                          uint8\n",
       "LA                          uint8\n",
       "NYC                         uint8\n",
       "SF                          uint8\n",
       "Bed & Breakfast             uint8\n",
       "Boat                        uint8\n",
       "Boutique hotel              uint8\n",
       "Bungalow                    uint8\n",
       "Cabin                       uint8\n",
       "Camper/RV                   uint8\n",
       "Casa particular             uint8\n",
       "Castle                      uint8\n",
       "Cave                        uint8\n",
       "Chalet                      uint8\n",
       "Condominium                 uint8\n",
       "Dorm                        uint8\n",
       "Earth House                 uint8\n",
       "Guest suite                 uint8\n",
       "Guesthouse                  uint8\n",
       "Hostel                      uint8\n",
       "House                       uint8\n",
       "Hut                         uint8\n",
       "In-law                      uint8\n",
       "Island                      uint8\n",
       "Loft                        uint8\n",
       "Other                       uint8\n",
       "Parking Space               uint8\n",
       "Serviced apartment          uint8\n",
       "Tent                        uint8\n",
       "Timeshare                   uint8\n",
       "Tipi                        uint8\n",
       "Townhouse                   uint8\n",
       "Train                       uint8\n",
       "Treehouse                   uint8\n",
       "Vacation home               uint8\n",
       "Villa                       uint8\n",
       "Yurt                        uint8\n",
       "Private room                uint8\n",
       "Shared room                 uint8\n",
       "dtype: object"
      ]
     },
     "execution_count": 146,
     "metadata": {},
     "output_type": "execute_result"
    }
   ],
   "source": [
    "train.dtypes"
   ]
  },
  {
   "cell_type": "code",
   "execution_count": 147,
   "id": "14be0fd4",
   "metadata": {},
   "outputs": [],
   "source": [
    "from sklearn.model_selection import train_test_split"
   ]
  },
  {
   "cell_type": "code",
   "execution_count": 148,
   "id": "e1f2ccab",
   "metadata": {},
   "outputs": [],
   "source": [
    "from sklearn.linear_model import LinearRegression as LR"
   ]
  },
  {
   "cell_type": "code",
   "execution_count": 149,
   "id": "a4c9adb4",
   "metadata": {},
   "outputs": [
    {
     "data": {
      "text/plain": [
       "accommodates                  0\n",
       "amenities                     0\n",
       "bathrooms                   147\n",
       "bedrooms                     71\n",
       "beds                         96\n",
       "cancellation_policy           0\n",
       "cleaning_fee                  0\n",
       "host_has_profile_pic          0\n",
       "host_identity_verified        0\n",
       "host_since                    0\n",
       "instant_bookable              0\n",
       "latitude                      0\n",
       "longitude                     0\n",
       "number_of_reviews             0\n",
       "review_scores_rating      12556\n",
       "y                             0\n",
       "Couch                         0\n",
       "Futon                         0\n",
       "Pull-out Sofa                 0\n",
       "Real Bed                      0\n",
       "Chicago                       0\n",
       "DC                            0\n",
       "LA                            0\n",
       "NYC                           0\n",
       "SF                            0\n",
       "Bed & Breakfast               0\n",
       "Boat                          0\n",
       "Boutique hotel                0\n",
       "Bungalow                      0\n",
       "Cabin                         0\n",
       "Camper/RV                     0\n",
       "Casa particular               0\n",
       "Castle                        0\n",
       "Cave                          0\n",
       "Chalet                        0\n",
       "Condominium                   0\n",
       "Dorm                          0\n",
       "Earth House                   0\n",
       "Guest suite                   0\n",
       "Guesthouse                    0\n",
       "Hostel                        0\n",
       "House                         0\n",
       "Hut                           0\n",
       "In-law                        0\n",
       "Island                        0\n",
       "Loft                          0\n",
       "Other                         0\n",
       "Parking Space                 0\n",
       "Serviced apartment            0\n",
       "Tent                          0\n",
       "Timeshare                     0\n",
       "Tipi                          0\n",
       "Townhouse                     0\n",
       "Train                         0\n",
       "Treehouse                     0\n",
       "Vacation home                 0\n",
       "Villa                         0\n",
       "Yurt                          0\n",
       "Private room                  0\n",
       "Shared room                   0\n",
       "dtype: int64"
      ]
     },
     "execution_count": 149,
     "metadata": {},
     "output_type": "execute_result"
    }
   ],
   "source": [
    "train.isnull().sum()"
   ]
  },
  {
   "cell_type": "code",
   "execution_count": 150,
   "id": "e38dfdc7",
   "metadata": {},
   "outputs": [],
   "source": [
    "train.drop('review_scores_rating',axis=1,inplace=True)"
   ]
  },
  {
   "cell_type": "code",
   "execution_count": 151,
   "id": "c0834442",
   "metadata": {},
   "outputs": [],
   "source": [
    "train['bathrooms'].fillna(train['bathrooms'].mode()[0],inplace=True)"
   ]
  },
  {
   "cell_type": "code",
   "execution_count": 152,
   "id": "01b04986",
   "metadata": {},
   "outputs": [],
   "source": [
    "train['bedrooms'].fillna(train['bedrooms'].mode()[0],inplace=True)"
   ]
  },
  {
   "cell_type": "code",
   "execution_count": 153,
   "id": "af151183",
   "metadata": {},
   "outputs": [],
   "source": [
    "train['beds'].fillna(train['beds'].mode()[0],inplace=True)"
   ]
  },
  {
   "cell_type": "code",
   "execution_count": 154,
   "id": "7bff2aa3",
   "metadata": {},
   "outputs": [
    {
     "data": {
      "text/plain": [
       "accommodates              0\n",
       "amenities                 0\n",
       "bathrooms                 0\n",
       "bedrooms                  0\n",
       "beds                      0\n",
       "cancellation_policy       0\n",
       "cleaning_fee              0\n",
       "host_has_profile_pic      0\n",
       "host_identity_verified    0\n",
       "host_since                0\n",
       "instant_bookable          0\n",
       "latitude                  0\n",
       "longitude                 0\n",
       "number_of_reviews         0\n",
       "y                         0\n",
       "Couch                     0\n",
       "Futon                     0\n",
       "Pull-out Sofa             0\n",
       "Real Bed                  0\n",
       "Chicago                   0\n",
       "DC                        0\n",
       "LA                        0\n",
       "NYC                       0\n",
       "SF                        0\n",
       "Bed & Breakfast           0\n",
       "Boat                      0\n",
       "Boutique hotel            0\n",
       "Bungalow                  0\n",
       "Cabin                     0\n",
       "Camper/RV                 0\n",
       "Casa particular           0\n",
       "Castle                    0\n",
       "Cave                      0\n",
       "Chalet                    0\n",
       "Condominium               0\n",
       "Dorm                      0\n",
       "Earth House               0\n",
       "Guest suite               0\n",
       "Guesthouse                0\n",
       "Hostel                    0\n",
       "House                     0\n",
       "Hut                       0\n",
       "In-law                    0\n",
       "Island                    0\n",
       "Loft                      0\n",
       "Other                     0\n",
       "Parking Space             0\n",
       "Serviced apartment        0\n",
       "Tent                      0\n",
       "Timeshare                 0\n",
       "Tipi                      0\n",
       "Townhouse                 0\n",
       "Train                     0\n",
       "Treehouse                 0\n",
       "Vacation home             0\n",
       "Villa                     0\n",
       "Yurt                      0\n",
       "Private room              0\n",
       "Shared room               0\n",
       "dtype: int64"
      ]
     },
     "execution_count": 154,
     "metadata": {},
     "output_type": "execute_result"
    }
   ],
   "source": [
    "train.isnull().sum()"
   ]
  },
  {
   "cell_type": "code",
   "execution_count": 168,
   "id": "598b4238",
   "metadata": {},
   "outputs": [],
   "source": [
    "X = train.drop('y',axis=1)\n",
    "Y = train['y']"
   ]
  },
  {
   "cell_type": "code",
   "execution_count": 156,
   "id": "ebd58772",
   "metadata": {},
   "outputs": [],
   "source": [
    "X_train,X_test,y_train,y_test = train_test_split(X,Y,test_size=0.2,random_state=1)"
   ]
  },
  {
   "cell_type": "code",
   "execution_count": 157,
   "id": "18dce6ed",
   "metadata": {},
   "outputs": [],
   "source": [
    "model =LR()"
   ]
  },
  {
   "cell_type": "code",
   "execution_count": 158,
   "id": "d473a11e",
   "metadata": {},
   "outputs": [
    {
     "data": {
      "text/plain": [
       "LinearRegression()"
      ]
     },
     "execution_count": 158,
     "metadata": {},
     "output_type": "execute_result"
    }
   ],
   "source": [
    "model.fit(X_train,y_train)"
   ]
  },
  {
   "cell_type": "code",
   "execution_count": 159,
   "id": "f8ace651",
   "metadata": {},
   "outputs": [],
   "source": [
    "train_pred = model.predict(X_train)"
   ]
  },
  {
   "cell_type": "code",
   "execution_count": 160,
   "id": "f9735b54",
   "metadata": {},
   "outputs": [],
   "source": [
    "from sklearn.metrics import mean_squared_error as MSE"
   ]
  },
  {
   "cell_type": "code",
   "execution_count": 161,
   "id": "1875a826",
   "metadata": {},
   "outputs": [],
   "source": [
    "train_mse = MSE(y_train,train_pred)"
   ]
  },
  {
   "cell_type": "code",
   "execution_count": 162,
   "id": "86f995f2",
   "metadata": {},
   "outputs": [],
   "source": [
    "train_rmse = np.sqrt(train_mse)"
   ]
  },
  {
   "cell_type": "code",
   "execution_count": 163,
   "id": "34e27c41",
   "metadata": {},
   "outputs": [
    {
     "name": "stdout",
     "output_type": "stream",
     "text": [
      "126.77307041673131\n"
     ]
    }
   ],
   "source": [
    "print(train_rmse)"
   ]
  },
  {
   "cell_type": "code",
   "execution_count": 164,
   "id": "6783fc5c",
   "metadata": {},
   "outputs": [],
   "source": [
    "test_pred = model.predict(X_test)"
   ]
  },
  {
   "cell_type": "code",
   "execution_count": 165,
   "id": "74ecfa9a",
   "metadata": {},
   "outputs": [],
   "source": [
    "test_mse = MSE(y_test,test_pred)"
   ]
  },
  {
   "cell_type": "code",
   "execution_count": 166,
   "id": "274fb03a",
   "metadata": {},
   "outputs": [],
   "source": [
    "test_rmse = np.sqrt(test_mse)"
   ]
  },
  {
   "cell_type": "code",
   "execution_count": 167,
   "id": "ca6e3adc",
   "metadata": {},
   "outputs": [
    {
     "name": "stdout",
     "output_type": "stream",
     "text": [
      "trainデータのRMSE: 126.77307041673131\n",
      "testデータのRMSE: 128.40360325727235\n"
     ]
    }
   ],
   "source": [
    "print('trainデータのRMSE:',train_rmse)\n",
    "print('testデータのRMSE:',test_rmse)"
   ]
  },
  {
   "cell_type": "code",
   "execution_count": 173,
   "id": "046db1ec",
   "metadata": {},
   "outputs": [
    {
     "data": {
      "text/plain": [
       "58"
      ]
     },
     "execution_count": 173,
     "metadata": {},
     "output_type": "execute_result"
    }
   ],
   "source": [
    "X.shape[1]"
   ]
  },
  {
   "cell_type": "code",
   "execution_count": null,
   "id": "e94e0ae0",
   "metadata": {},
   "outputs": [],
   "source": []
  }
 ],
 "metadata": {
  "kernelspec": {
   "display_name": "Python 3 (ipykernel)",
   "language": "python",
   "name": "python3"
  },
  "language_info": {
   "codemirror_mode": {
    "name": "ipython",
    "version": 3
   },
   "file_extension": ".py",
   "mimetype": "text/x-python",
   "name": "python",
   "nbconvert_exporter": "python",
   "pygments_lexer": "ipython3",
   "version": "3.9.7"
  }
 },
 "nbformat": 4,
 "nbformat_minor": 5
}
